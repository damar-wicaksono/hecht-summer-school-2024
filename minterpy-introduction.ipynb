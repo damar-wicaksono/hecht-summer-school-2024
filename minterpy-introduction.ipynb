{
 "cells": [
  {
   "cell_type": "markdown",
   "id": "b0ba6e87",
   "metadata": {
    "slideshow": {
     "slide_type": "slide"
    }
   },
   "source": [
    "# Introduction to Minterpy\n",
    "\n",
    "**Damar Wicaksono**\n",
    "\n",
    "CASUS, 17.06.2024"
   ]
  },
  {
   "cell_type": "markdown",
   "id": "7f0dd031",
   "metadata": {
    "slideshow": {
     "slide_type": "slide"
    }
   },
   "source": [
    "## What is Minterpy?\n",
    "\n",
    "Minterpy is Python package based on an optimized re-implementation of the multivariate interpolation prototype algorithm (MIP) by Hecht et al. (2020) and thereby provides software solutions that lift the curse of dimensionality from interpolation tasks, commonly occuring as the bottleneck of most computational challenges.\n",
    "Minterpy is continuously extended and improved by adding further functionality and modules that provide novel digital solutions to a broad field of computational challenges, including but not limited to:\n",
    "- multivariate polynomial interpolation and regression\n",
    "- numerical integration\n",
    "- global (black-box) optimization\n",
    "- surface level-set methods\n",
    "- non-periodic spectral partial differential equations (PDE) solvers on flat and complex geometries\n",
    "- machine learning regularization\n",
    "- data reconstruction\n",
    "- computational solutions in algebraic geometry"
   ]
  },
  {
   "cell_type": "markdown",
   "id": "f9f8cecf",
   "metadata": {
    "slideshow": {
     "slide_type": "slide"
    }
   },
   "source": [
    "## What is Minterpy?\n",
    "\n",
    "Minterpy is Python package based on an optimized re-implementation of the multivariate interpolation prototype algorithm (MIP) by Hecht et al. (2020) and thereby provides software solutions that lift the curse of dimensionality from interpolation tasks, commonly occuring as the bottleneck of most computational challenges.\n",
    "Minterpy is continuously extended and improved by adding further functionality and modules that provide novel digital solutions to a broad field of computational challenges, including but not limited to:\n",
    "- multivariate polynomial interpolation and regression (***fair enough***)\n",
    "- numerical integration (***to a certain extend***)\n",
    "- global (black-box) optimization\n",
    "- surface level-set methods\n",
    "- non-periodic spectral partial differential equations (PDE) solvers on flat and complex geometries\n",
    "- machine learning regularization\n",
    "- data reconstruction\n",
    "- computational solutions in algebraic geometry"
   ]
  },
  {
   "cell_type": "markdown",
   "id": "469f8894",
   "metadata": {
    "slideshow": {
     "slide_type": "slide"
    }
   },
   "source": [
    "## What is Minterpy currently?\n",
    "\n",
    "Minterpy is Python package based on an optimized re-implementation of the multivariate interpolation prototype algorithm (MIP) by Hecht et al. (2020).\n",
    "\n",
    "It provides a function approximation via polynomials and supports some basic numerical tasks involving polynomials, including arithmetics, differentiation, and definite integration.\n",
    "\n",
    "Minterpy is being actively developed to introduce more convenient features associated with polynomials as well as more efficient underlying computational algorithms."
   ]
  },
  {
   "cell_type": "markdown",
   "id": "23119f2b",
   "metadata": {
    "slideshow": {
     "slide_type": "slide"
    }
   },
   "source": [
    "## Polynomials in Minterpy\n",
    "\n",
    "Polynomials in Minterpy are multivariate (multi-dimensional) polynomials defined on $[-1, 1]^m$ where $m$ is the spatial dimension written as:\n",
    "\n",
    "$$\n",
    "p(\\boldsymbol{x}) = \\sum_{\\boldsymbol{\\alpha} \\in A} c_{\\boldsymbol{\\alpha}} \\Psi_{\\boldsymbol{\\alpha}}(\\boldsymbol{x})\n",
    "$$\n",
    "\n",
    "where:\n",
    "\n",
    "- $A$ is the multi-index set of the exponents\n",
    "- $\\Psi_{\\boldsymbol{\\alpha}}(\\boldsymbol{x})$'s are the polynomial basis\n",
    "- $c_{\\boldsymbol{\\alpha}}$'s are the corresponding coefficients (in the given basis)"
   ]
  },
  {
   "cell_type": "markdown",
   "id": "ac879f00",
   "metadata": {
    "slideshow": {
     "slide_type": "slide"
    }
   },
   "source": [
    "## Polynomials bases in Minterpy\n",
    "\n",
    "Currently, Minterpy supports four polynomial bases:\n",
    "\n",
    "\n",
    "- Lagrange basis, i.e., $\\Psi_{\\boldsymbol{\\alpha}}(\\boldsymbol{x}^{(\\boldsymbol{\\alpha})}) = f(\\boldsymbol{x}^{(\\boldsymbol{\\alpha})})$\n",
    "- Newton basis, i.e., $\\Psi_{\\boldsymbol{\\alpha}}(\\boldsymbol{x}) = \\prod_{i = 1}^m \\prod_{j = 0}^{\\alpha_m - 1} (x_i - p_{j, i})$\n",
    "- Canonical basis, i.e., $\\Psi_{\\boldsymbol{\\alpha}}(\\boldsymbol{x}) = x_1^{\\alpha_1} \\ldots x_m^{\\alpha_m}$\n",
    "- Chebyshev basis (of the first kind), i.e., $\\Psi_{\\boldsymbol{\\alpha}}(\\boldsymbol{x}) = \\prod_{i = 1}^m T_{i, \\alpha_i} (x_i)$\n",
    "\n",
    "Transformation of polynomials between those bases are supported.\n",
    "\n",
    "<center><img src=\"basis.png\"/></center>"
   ]
  },
  {
   "cell_type": "markdown",
   "id": "b132ca08",
   "metadata": {
    "slideshow": {
     "slide_type": "slide"
    }
   },
   "source": [
    "## Supported features associated with polynomial basis\n",
    "\n",
    "Capabilities available for instances polynomials differ depending on the basis.\n",
    "\n",
    "| Features             | Lagrange | Newton | Canonical | Chebyshev |\n",
    "|:--------------------:|:---:|:---:|:---:|:---:|\n",
    "| Transformation to-and-from | &#10003; | &#10003; | &#10003; | &#10003; | \n",
    "| Evaluation           | &#10799; | &#10003; | &#10003; | &#10003; |\n",
    "| Addition             | &#10003; | &#10003; | &#10003; | &#10799; |\n",
    "| Subtraction          | &#10003; | &#10003; | &#10003; | &#10799; |\n",
    "| Multiplication       | &#10003; | &#10003; | &#10799; | &#10799; |\n",
    "| Differentiation      | &#10799; | &#10003; | &#10003; | &#10799; |\n",
    "| Definite Integration | &#10799; | &#10003; | &#10003; | &#10799; |"
   ]
  },
  {
   "cell_type": "markdown",
   "id": "befbf734",
   "metadata": {
    "slideshow": {
     "slide_type": "slide"
    }
   },
   "source": [
    "## Next\n",
    "\n",
    "- Quick Demonstration\n",
    "- Exercises"
   ]
  }
 ],
 "metadata": {
  "celltoolbar": "Slideshow",
  "kernelspec": {
   "display_name": "Python 3 (ipykernel)",
   "language": "python",
   "name": "python3"
  },
  "language_info": {
   "codemirror_mode": {
    "name": "ipython",
    "version": 3
   },
   "file_extension": ".py",
   "mimetype": "text/x-python",
   "name": "python",
   "nbconvert_exporter": "python",
   "pygments_lexer": "ipython3",
   "version": "3.9.19"
  },
  "rise": {
   "theme": "simple",
   "transition": "none"
  }
 },
 "nbformat": 4,
 "nbformat_minor": 5
}
