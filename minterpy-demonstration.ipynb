{
 "cells": [
  {
   "cell_type": "markdown",
   "id": "88d3470d",
   "metadata": {},
   "source": [
    "# Minterpy Demonstration"
   ]
  },
  {
   "cell_type": "code",
   "execution_count": null,
   "id": "e64c06cd",
   "metadata": {},
   "outputs": [],
   "source": [
    "import matplotlib.pyplot as plt\n",
    "import minterpy as mp\n",
    "import numpy as np\n",
    "\n",
    "from utils import plot_grid, plot_poly, plot_multi_index"
   ]
  },
  {
   "cell_type": "markdown",
   "id": "d01ff815",
   "metadata": {},
   "source": [
    "This notebook provides an introduction to polynomial approximation in Minterpy along with its main capabilities."
   ]
  },
  {
   "cell_type": "markdown",
   "id": "19e37ab6",
   "metadata": {},
   "source": [
    "## One-dimensional function approximation\n",
    "\n",
    "Consider a one-dimensional function:\n",
    "\n",
    "$$\n",
    "f(x) = \\sin{(2 \\pi x)}, \\; x \\in [-1, 1].\n",
    "$$"
   ]
  },
  {
   "cell_type": "code",
   "execution_count": null,
   "id": "1964794c",
   "metadata": {},
   "outputs": [],
   "source": [
    "def fun(xx):\n",
    "    return np.sin(2 * np.pi * xx)"
   ]
  },
  {
   "cell_type": "markdown",
   "id": "c530d923",
   "metadata": {},
   "source": [
    "To create a (useful) polynomial approximation of this function in Minterpy from scratch, we're going to:\n",
    "\n",
    "- Create a multi-index set of the polynomial\n",
    "- Evaluate the function on the interpolation grid to obtain the Lagrange coefficients\n",
    "- Create a polynomial in the Lagrange basis\n",
    "- Transform the polynomial in the Lagrange basis to a polynomial in the Newton basis"
   ]
  },
  {
   "cell_type": "markdown",
   "id": "5be98907",
   "metadata": {},
   "source": [
    "### Multi-index set\n",
    "\n",
    "The starting point of defining a polynomial in Minterpy is to specify the multi-index set of the polynomial. In one-dimension, defining a multi-index set basically boils down to specifying the polynomial degree.\n",
    "\n",
    "The code below creates a multi-index set in one-dimension with polynomial degree of $20$:"
   ]
  },
  {
   "cell_type": "code",
   "execution_count": null,
   "id": "9175c9f3",
   "metadata": {},
   "outputs": [],
   "source": [
    "mi = mp.MultiIndexSet.from_degree(\n",
    "    spatial_dimension=1,\n",
    "    poly_degree=20,\n",
    ")"
   ]
  },
  {
   "cell_type": "markdown",
   "id": "03c4bcdf",
   "metadata": {},
   "source": [
    "PS: Currently, Minterpy does not support automatic selection of polynomial degree. You must therefore decide this before hand and verify later if the polynomial approximation is sufficiently accurate for your purpose."
   ]
  },
  {
   "cell_type": "markdown",
   "id": "1436f890",
   "metadata": {},
   "source": [
    "### Interpolation grid"
   ]
  },
  {
   "cell_type": "markdown",
   "id": "014379ff",
   "metadata": {},
   "source": [
    "Once the multi-index set is defined, we construct an interpolation grid which contains the unisolvent nodes, i.e., points at which the function are sampled/evaluated:"
   ]
  },
  {
   "cell_type": "code",
   "execution_count": null,
   "id": "8293f186",
   "metadata": {},
   "outputs": [],
   "source": [
    "grd = mp.Grid(mi)"
   ]
  },
  {
   "cell_type": "markdown",
   "id": "354d8009",
   "metadata": {},
   "source": [
    "By default, Minterpy constructs interpolation nodes according to the Chebyshev-Lobatto nodes:"
   ]
  },
  {
   "cell_type": "code",
   "execution_count": null,
   "id": "140c1f0b",
   "metadata": {},
   "outputs": [],
   "source": [
    "plot_grid(grd)"
   ]
  },
  {
   "cell_type": "markdown",
   "id": "94c4aac1",
   "metadata": {},
   "source": [
    "One-dimensional interpolation grid for polynomial of degree $20$ contains $21$ interpolation points/nodes."
   ]
  },
  {
   "cell_type": "markdown",
   "id": "eda5c420",
   "metadata": {},
   "source": [
    "### From Lagrange polynomial to Newton polynomial"
   ]
  },
  {
   "cell_type": "markdown",
   "id": "748a42a7",
   "metadata": {},
   "source": [
    "Evaluate the original function at the unisolvent nodes to obtain the coefficients for a polynomial in the Lagrange basis:"
   ]
  },
  {
   "cell_type": "code",
   "execution_count": null,
   "id": "7591b814",
   "metadata": {},
   "outputs": [],
   "source": [
    "lag_coeffs = fun(grd.unisolvent_nodes)"
   ]
  },
  {
   "cell_type": "markdown",
   "id": "bf1ecf7f",
   "metadata": {},
   "source": [
    "We know have all the minimum ingredients to construct a fully specified Minterpy polynomial, namely: a multi-index set and the corresponding coefficients (in this case, the coefficients in the Lagrange basis).\n",
    "\n",
    "To construct a `LagrangePolynomial`"
   ]
  },
  {
   "cell_type": "code",
   "execution_count": null,
   "id": "b77a0464",
   "metadata": {},
   "outputs": [],
   "source": [
    "lag_poly = mp.LagrangePolynomial(\n",
    "    multi_index=mi,\n",
    "    coeffs=lag_coeffs,\n",
    ")"
   ]
  },
  {
   "cell_type": "markdown",
   "id": "e765fef4",
   "metadata": {},
   "source": [
    "While the Lagrange basis is the most intuitive basis for function approximation, in Minterpy you can't do much with such polynomials. For instance, you can't even evaluate them.\n",
    "\n",
    "More features are open to you once you transform it to the Newton basis:"
   ]
  },
  {
   "cell_type": "code",
   "execution_count": null,
   "id": "0ebf1797",
   "metadata": {},
   "outputs": [],
   "source": [
    "nwt_poly = mp.LagrangeToNewton(lag_poly)()  # Call the instance to execute the transformation!"
   ]
  },
  {
   "cell_type": "markdown",
   "id": "989d5769",
   "metadata": {},
   "source": [
    "Polynomials in the Newton basis can be evaluated:"
   ]
  },
  {
   "cell_type": "code",
   "execution_count": null,
   "id": "2faaa06d",
   "metadata": {},
   "outputs": [],
   "source": [
    "nwt_poly(np.array([-0.75, 0.0, 0.5]))"
   ]
  },
  {
   "cell_type": "code",
   "execution_count": null,
   "id": "24829383",
   "metadata": {},
   "outputs": [],
   "source": [
    "plot_poly(nwt_poly)"
   ]
  },
  {
   "cell_type": "markdown",
   "id": "c29bf5d5",
   "metadata": {},
   "source": [
    "## Basic arithmetics\n",
    "\n",
    "Minterpy supports basic arithmetics operation involving polynomials, namely: addition, subtraction, and multiplication between polynomials and polynomials and polynomials and real scalar numbers.\n",
    "\n",
    "Currently, only polynomials in the Newton basis have all these operations."
   ]
  },
  {
   "cell_type": "markdown",
   "id": "79e96415",
   "metadata": {},
   "source": [
    "### Addition and subtraction"
   ]
  },
  {
   "cell_type": "markdown",
   "id": "43e8f20f",
   "metadata": {},
   "source": [
    "Adding and subtracting a scalar real number to and from a polynomial returns a polynomial:"
   ]
  },
  {
   "cell_type": "code",
   "execution_count": null,
   "id": "ce31d060",
   "metadata": {},
   "outputs": [],
   "source": [
    "nwt_poly + 5.0"
   ]
  },
  {
   "cell_type": "code",
   "execution_count": null,
   "id": "55a3dc1b",
   "metadata": {},
   "outputs": [],
   "source": [
    "plot_poly(nwt_poly + 5.0, fun)"
   ]
  },
  {
   "cell_type": "code",
   "execution_count": null,
   "id": "a572f0fc",
   "metadata": {},
   "outputs": [],
   "source": [
    "nwt_poly - 5.0"
   ]
  },
  {
   "cell_type": "code",
   "execution_count": null,
   "id": "d2706a04",
   "metadata": {},
   "outputs": [],
   "source": [
    "plot_poly(nwt_poly - 5.0, fun)"
   ]
  },
  {
   "cell_type": "markdown",
   "id": "e27b5958",
   "metadata": {},
   "source": [
    "Before moving on, let's create another polynomial representing a linear function:"
   ]
  },
  {
   "cell_type": "code",
   "execution_count": null,
   "id": "15f7e9b8",
   "metadata": {},
   "outputs": [],
   "source": [
    "def fun_x(xx):\n",
    "    return xx"
   ]
  },
  {
   "cell_type": "code",
   "execution_count": null,
   "id": "dc9298ae",
   "metadata": {},
   "outputs": [],
   "source": [
    "mi_x = mp.MultiIndexSet.from_degree(1, 1)\n",
    "grd_x = mp.Grid(mi_x)\n",
    "lag_coeffs_x = fun_x(grd_x.unisolvent_nodes)\n",
    "lag_poly_x = mp.LagrangePolynomial(mi_x, lag_coeffs_x)\n",
    "nwt_poly_x = mp.LagrangeToNewton(lag_poly_x)()"
   ]
  },
  {
   "cell_type": "markdown",
   "id": "d5509964",
   "metadata": {},
   "source": [
    "A Minterpy polynomial may be added with another polynomial; the result is also a polynomial:"
   ]
  },
  {
   "cell_type": "code",
   "execution_count": null,
   "id": "edec68b8",
   "metadata": {},
   "outputs": [],
   "source": [
    "nwt_poly + nwt_poly_x"
   ]
  },
  {
   "cell_type": "code",
   "execution_count": null,
   "id": "ad49e8ba",
   "metadata": {},
   "outputs": [],
   "source": [
    "plot_poly(nwt_poly + nwt_poly_x, fun)"
   ]
  },
  {
   "cell_type": "markdown",
   "id": "5e1f8e44",
   "metadata": {},
   "source": [
    "...as well as subtraction by a polynomial:"
   ]
  },
  {
   "cell_type": "code",
   "execution_count": null,
   "id": "2b43301f",
   "metadata": {},
   "outputs": [],
   "source": [
    "plot_poly(nwt_poly - nwt_poly_x, fun)"
   ]
  },
  {
   "cell_type": "markdown",
   "id": "17de7f99",
   "metadata": {},
   "source": [
    "### Multiplication"
   ]
  },
  {
   "cell_type": "markdown",
   "id": "669ac221",
   "metadata": {},
   "source": [
    "As with subtraction and addition, Minterpy polynomials may be multiplied with a real scalar number"
   ]
  },
  {
   "cell_type": "code",
   "execution_count": null,
   "id": "9c56146e",
   "metadata": {},
   "outputs": [],
   "source": [
    "nwt_poly * 2.5"
   ]
  },
  {
   "cell_type": "code",
   "execution_count": null,
   "id": "c3638e17",
   "metadata": {},
   "outputs": [],
   "source": [
    "plot_poly(nwt_poly * 2.5, fun)"
   ]
  },
  {
   "cell_type": "markdown",
   "id": "78b7a605",
   "metadata": {},
   "source": [
    "...and another polynomial:"
   ]
  },
  {
   "cell_type": "code",
   "execution_count": null,
   "id": "d551ac63",
   "metadata": {},
   "outputs": [],
   "source": [
    "nwt_poly * nwt_poly_x"
   ]
  },
  {
   "cell_type": "code",
   "execution_count": null,
   "id": "7d7a84f5",
   "metadata": {},
   "outputs": [],
   "source": [
    "plot_poly(nwt_poly * nwt_poly_x, fun)"
   ]
  },
  {
   "cell_type": "markdown",
   "id": "05ac5918",
   "metadata": {},
   "source": [
    "## Basic calculus\n",
    "\n",
    "Minterpy supports basic calculus operations with polynomials, namely: differentiation and definite integration."
   ]
  },
  {
   "cell_type": "markdown",
   "id": "48fb0dbd",
   "metadata": {},
   "source": [
    "Differentiating a polynomial with a specified dimension and order of derivative can be done with the `partial_diff()` method attached to instances of `NewtonPolynomial`:\n",
    "\n",
    "- `nwt_poly.partial_diff(0)` means $\\frac{\\partial f}{\\partial x_1}$\n",
    "- `nwt_poly.partial_diff(0, 2)` means $\\frac{\\partial^2 f}{\\partial x^2_2}$\n",
    "- `nwt_poly.partial_diff(1, 3)` means $\\frac{\\partial^3 f}{\\partial x^3_1}$\n",
    "\n",
    "Note that the dimension is zero-indexed (i.e., $0$ is the first dimension index).\n",
    "\n",
    "Calling the method returns a differentiated polynomial in the corresponding basis."
   ]
  },
  {
   "cell_type": "markdown",
   "id": "44843de2",
   "metadata": {},
   "source": [
    "Because we have one-dimensional function, calling the method basically returns $\\frac{d^nf}{dx^n}$:"
   ]
  },
  {
   "cell_type": "code",
   "execution_count": null,
   "id": "990b758e",
   "metadata": {},
   "outputs": [],
   "source": [
    "nwt_poly_diff = nwt_poly.partial_diff(0)  # df/dx\n",
    "nwt_poly_diff"
   ]
  },
  {
   "cell_type": "code",
   "execution_count": null,
   "id": "90a8ad57",
   "metadata": {},
   "outputs": [],
   "source": [
    "plot_poly(nwt_poly_diff, fun)"
   ]
  },
  {
   "cell_type": "markdown",
   "id": "0196633a",
   "metadata": {},
   "source": [
    "Definite integration of a polynomial over a specified domain may be computed via the method `integrate_over()`. By default, the integration is carried out over the whole domain $[-1, 1]^m$. Definite integration returns a number instead of a polynomial:"
   ]
  },
  {
   "cell_type": "code",
   "execution_count": null,
   "id": "e82d76ed",
   "metadata": {},
   "outputs": [],
   "source": [
    "nwt_poly.integrate_over()"
   ]
  },
  {
   "cell_type": "markdown",
   "id": "373244ce",
   "metadata": {},
   "source": [
    "The boundary of integration in $[-1, 1]^m$ can be adjusted by passing the `bounds` arguments (the first argument). For instance integrating the polynomial from $-1.0$ to $0.75$ yields"
   ]
  },
  {
   "cell_type": "code",
   "execution_count": null,
   "id": "578fd545",
   "metadata": {},
   "outputs": [],
   "source": [
    "nwt_poly.integrate_over([-1, 0.75])"
   ]
  },
  {
   "cell_type": "markdown",
   "id": "ff74c802",
   "metadata": {},
   "source": [
    "PS: Polynomials in Minterpy are defined in $[-1, 1]^m$. If manual transformation is carried out bringing the function from arbitrary domain $[a_1, b_1] \\times \\ldots \\times [a_m, b_m]$ you have to be careful with the change of domain when differentiating and integrating."
   ]
  },
  {
   "cell_type": "markdown",
   "id": "7a757598",
   "metadata": {},
   "source": [
    "## Two-dimensional function approximations\n",
    "\n",
    "Higher-dimensional functions may be approximated with Minterpy polynomials with similar approach.\n",
    "\n",
    "Consider now the two-dimensional Runge function:\n",
    "$$\n",
    "f(x_1, x_2) = \\frac{1}{1 + 4 (x_1^2 + x_2^2)}, \\; x_1, x_2 \\in [-1, 1]\n",
    "$$\n"
   ]
  },
  {
   "cell_type": "code",
   "execution_count": null,
   "id": "6255f74f",
   "metadata": {},
   "outputs": [],
   "source": [
    "def runge(xx):\n",
    "    return 1 / (1 + 4 * np.sum(xx**2, axis=1))"
   ]
  },
  {
   "cell_type": "markdown",
   "id": "e6b1f2be",
   "metadata": {},
   "source": [
    "As before we start with defining a multi-index set:"
   ]
  },
  {
   "cell_type": "code",
   "execution_count": null,
   "id": "70085708",
   "metadata": {},
   "outputs": [],
   "source": [
    "mi_2d = mp.MultiIndexSet.from_degree(\n",
    "    spatial_dimension=2,\n",
    "    poly_degree=5,\n",
    "    lp_degree=2.0,\n",
    ")"
   ]
  },
  {
   "cell_type": "markdown",
   "id": "33a88393",
   "metadata": {},
   "source": [
    "For higher-dimension, we have another parameter in the specification of the multi-index set, i.e., `lp_degree`. Multi-index sets constructed from `from_degree()` is _complete_ in the sense that the set contains _all_ the exponents $\\boldsymbol{\\alpha} = (\\alpha_1, \\ldots, \\alpha_m) \\in \\mathbb{N}^m$ such that the $l_p$-norm $\\lVert \\boldsymbol {\\alpha} \\rVert_p = (\\alpha_1^p + \\ldots + \\alpha_m^p)^{\\frac{1}{p}}\\leq n$, where $m$, $n$, $p$ are the `spatial_dimension`, \n",
    "`poly_degree`, and `lp_degree`, respectively.\n",
    "\n",
    "If not specified, `lp_degree` is set to $2.0$."
   ]
  },
  {
   "cell_type": "markdown",
   "id": "5318fba2",
   "metadata": {},
   "source": [
    "The complete multi-index set defined above contains the following elements along with the resulting interpolation grid in two-dimension:"
   ]
  },
  {
   "cell_type": "code",
   "execution_count": null,
   "id": "41740d2c",
   "metadata": {},
   "outputs": [],
   "source": [
    "plot_multi_index(mi_2d)"
   ]
  },
  {
   "cell_type": "markdown",
   "id": "a6811b90",
   "metadata": {},
   "source": [
    "We can compare the above for `lp_degree` of $1.0$ (total degree set / grid):"
   ]
  },
  {
   "cell_type": "code",
   "execution_count": null,
   "id": "878eb156",
   "metadata": {},
   "outputs": [],
   "source": [
    "plot_multi_index(mp.MultiIndexSet.from_degree(2, 5, 1.0))"
   ]
  },
  {
   "cell_type": "markdown",
   "id": "dcce9519",
   "metadata": {},
   "source": [
    "...and $\\infty$ (full tensorial multi-index set and grid):"
   ]
  },
  {
   "cell_type": "code",
   "execution_count": null,
   "id": "592c6c33",
   "metadata": {},
   "outputs": [],
   "source": [
    "plot_multi_index(mp.MultiIndexSet.from_degree(2, 5, np.inf))"
   ]
  },
  {
   "cell_type": "markdown",
   "id": "03bb894e",
   "metadata": {},
   "source": [
    "Once a multi-index set is specified, we obtain the coefficients of the polynomial in the Lagrange basis:"
   ]
  },
  {
   "cell_type": "code",
   "execution_count": null,
   "id": "277ead23",
   "metadata": {},
   "outputs": [],
   "source": [
    "grd_2d = mp.Grid(mi_2d)\n",
    "lag_coeffs_2d = runge(grd_2d.unisolvent_nodes)"
   ]
  },
  {
   "cell_type": "markdown",
   "id": "9c7a04b5",
   "metadata": {},
   "source": [
    "Then create a polynomial in the Lagrange basis:"
   ]
  },
  {
   "cell_type": "code",
   "execution_count": null,
   "id": "ab10d1ba",
   "metadata": {},
   "outputs": [],
   "source": [
    "lag_poly = mp.LagrangePolynomial(mi_2d, lag_coeffs_2d)"
   ]
  },
  {
   "cell_type": "markdown",
   "id": "40800dfa",
   "metadata": {},
   "source": [
    "...before transforming it to the Newton polynomial:"
   ]
  },
  {
   "cell_type": "code",
   "execution_count": null,
   "id": "69ef9577",
   "metadata": {},
   "outputs": [],
   "source": [
    "nwt_poly_2d = mp.LagrangeToNewton(lag_poly)()"
   ]
  },
  {
   "cell_type": "markdown",
   "id": "84f95a13",
   "metadata": {},
   "source": [
    "The resulting `NewtonPolynomial` behave the same as before; the main difference is that now everything is in two-dimension."
   ]
  },
  {
   "cell_type": "code",
   "execution_count": null,
   "id": "376424f0",
   "metadata": {},
   "outputs": [],
   "source": [
    "nwt_poly_2d(\n",
    "    np.array([\n",
    "        [0.5, 0.75],\n",
    "        [-0.5, 0.0],\n",
    "    ])\n",
    ")"
   ]
  },
  {
   "cell_type": "code",
   "execution_count": null,
   "id": "b2249423",
   "metadata": {},
   "outputs": [],
   "source": [
    "plot_poly(nwt_poly_2d)"
   ]
  }
 ],
 "metadata": {
  "kernelspec": {
   "display_name": "Python 3 (ipykernel)",
   "language": "python",
   "name": "python3"
  },
  "language_info": {
   "codemirror_mode": {
    "name": "ipython",
    "version": 3
   },
   "file_extension": ".py",
   "mimetype": "text/x-python",
   "name": "python",
   "nbconvert_exporter": "python",
   "pygments_lexer": "ipython3",
   "version": "3.9.19"
  }
 },
 "nbformat": 4,
 "nbformat_minor": 5
}
