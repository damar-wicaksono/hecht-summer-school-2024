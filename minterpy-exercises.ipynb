{
 "cells": [
  {
   "cell_type": "markdown",
   "id": "20a9852d",
   "metadata": {},
   "source": [
    "# Minterpy Exercises"
   ]
  },
  {
   "cell_type": "code",
   "execution_count": 1,
   "id": "a118422e",
   "metadata": {},
   "outputs": [],
   "source": [
    "import minterpy as mp\n",
    "import numpy as np\n",
    "import matplotlib.pyplot as plt"
   ]
  },
  {
   "cell_type": "markdown",
   "id": "1a8a7df8",
   "metadata": {},
   "source": [
    "This series of warm-up exercises are supposed to familiarize you with Minterpy and some of its basic capabilities\n",
    "in solving straightforward numerical problems.\n",
    "Although The examples may, at times, be a little bit contrived, all of them should be familiar to you."
   ]
  },
  {
   "cell_type": "markdown",
   "id": "e57ec08a",
   "metadata": {},
   "source": [
    "## Exercise 1: One-dimensional function approximation"
   ]
  },
  {
   "cell_type": "markdown",
   "id": "fc6f9423",
   "metadata": {},
   "source": [
    "Consider the one-dimensional Runge function:\n",
    "$$\n",
    "f(x) = \\frac{1}{1 + 25 \\, x^2}, x \\in [-1, 1].\n",
    "$$\n",
    "\n",
    "Create Minterpy polynomial approximations to $f$ with increasing polynomial degree, compute the infinity norm of the error defined as\n",
    "$$\n",
    "\\lVert f - p \\rVert_\\infty = \\sup_{-1 \\leq x \\leq 1} \\lvert f(x) - p(x) \\rvert,\n",
    "$$\n",
    "and plot the convergence (i.e., infinity norm of the error vs polynomial degree).\n",
    "\n",
    "Hint: To compute the infinity norm of the error, evaluate the error on a dense grid between $-1$ and $1$.\n"
   ]
  },
  {
   "cell_type": "code",
   "execution_count": null,
   "id": "d80236bf",
   "metadata": {},
   "outputs": [],
   "source": [
    "## Your code here"
   ]
  },
  {
   "cell_type": "markdown",
   "id": "5dabdbc3",
   "metadata": {},
   "source": [
    "## Exercise 2: Root finding via the Newton's method"
   ]
  },
  {
   "cell_type": "markdown",
   "id": "2d5ad9ac",
   "metadata": {},
   "source": [
    "Currently, Minterpy does not offer root-finding functionality. However, for one-dimensional function we can resort to the Newton's method for root finding. The root of an equation $f$ can be found iteratively using the following formula:\n",
    "$$\n",
    "x_{i + 1} = x_i - \\frac{f(x_i)}{f'(x_i)}\n",
    "$$\n",
    "where $f'$ is the first-order derivative of the function $f$."
   ]
  },
  {
   "cell_type": "markdown",
   "id": "21ec0350",
   "metadata": {},
   "source": [
    "Consider now a one-dimensional function:\n",
    "$$\n",
    "f(x) = 5 x^3 - \\sin{(3 \\pi x)},\n",
    "$$\n",
    "defined on $x \\in [-1, 1]$."
   ]
  },
  {
   "cell_type": "markdown",
   "id": "3068b39c",
   "metadata": {},
   "source": [
    "Use Minterpy to approximate the function above and use the Newton's method to find the root(s) of the polynomial interpolant. Verify if the root(s) found is inded the root of the original function."
   ]
  },
  {
   "cell_type": "code",
   "execution_count": 539,
   "id": "e4226e8e",
   "metadata": {},
   "outputs": [],
   "source": [
    "## Your code here"
   ]
  },
  {
   "cell_type": "markdown",
   "id": "49b69fe8",
   "metadata": {},
   "source": [
    "## Exercise 3: Function of random variable"
   ]
  },
  {
   "cell_type": "markdown",
   "id": "c2c11bb3",
   "metadata": {},
   "source": [
    "Consider the function:\n",
    "$$\n",
    "f(x) = 5  (x + 1)  \\exp{(-2 (x + 1))} \\sin{(10 (x + 1))},\n",
    "$$\n",
    "defined on $x \\in [-1, 1]$.\n",
    "\n",
    "Supposed now instead of $x$, the input is a random variable $X$ distributed according\n",
    "to the following beta distribution:\n",
    "$$\n",
    "X \\sim f_X(x; \\alpha, \\beta); \\;\\;\\; f_X(x;\\alpha, \\beta) = \\frac{(x+1)^{\\alpha-1} (1 - x)^{\\beta-1}}{2^{\\alpha + \\beta - 1}} \\frac{\\Gamma(\\alpha + \\beta)}{\\Gamma(\\alpha) \\Gamma(\\beta)},\\; x \\in [-1, 1],\n",
    "$$\n",
    "where $\\alpha=5.0$ and $\\beta = 3.0$, and $\\Gamma$ is the Gamma function.\n",
    "\n",
    "Because $X$ is a random variable, $f(X)$ also becomes a random variable (specifically, a function of random variable, itself a random variable).\n",
    "\n",
    "Using Minterpy, compute the mean and variance of $f$ as function of $X$, i.e., $\\mathbb{E}[f(X)]$ and $\\mathbb{V}[f(X)]$."
   ]
  },
  {
   "cell_type": "code",
   "execution_count": null,
   "id": "1c9cc86e",
   "metadata": {},
   "outputs": [],
   "source": [
    "from scipy.special import gamma  # Use the gamma function from Scipy `scipy.special.gamma()`"
   ]
  },
  {
   "cell_type": "code",
   "execution_count": 541,
   "id": "14a8a4db",
   "metadata": {},
   "outputs": [],
   "source": [
    "## Your code here"
   ]
  },
  {
   "cell_type": "markdown",
   "id": "2a3018df",
   "metadata": {},
   "source": [
    "## Exercise 4: Two-dimensional function approximation"
   ]
  },
  {
   "cell_type": "markdown",
   "id": "cdc4ba03",
   "metadata": {},
   "source": [
    "Consider the two dimensional function:\n",
    "$$\n",
    "f(x_1, x_2) = \\frac{1.25 + \\cos{(2.7 (x_2 + 1))}}{6(1 - (1.5(x_1 + 1) - 1)^2)}, \\;\\; x \\in [-1, 1].\n",
    "$$\n",
    "\n",
    "Use Minterpy to create polynomial interpolants that approximate the function above.\n",
    "Create a convergence plot, i.e., infinity norm of the error vs. polynomial degree\n",
    "for three different choices of $l_p$-degree, i.e., $1.0$, $2.0$, and $3.0$."
   ]
  },
  {
   "cell_type": "code",
   "execution_count": 542,
   "id": "3a892b1a",
   "metadata": {},
   "outputs": [],
   "source": [
    "## Your code here"
   ]
  },
  {
   "cell_type": "markdown",
   "id": "25d93b27",
   "metadata": {},
   "source": [
    "## Exercise 5: The Laplacian"
   ]
  },
  {
   "cell_type": "markdown",
   "id": "e6255294",
   "metadata": {},
   "source": [
    "The Laplacian of a three-dimensional scalar field $f$ is defined as\n",
    "$$\n",
    "\\nabla^2 f = \\frac{\\partial^2 f}{\\partial x_1^2} + \\frac{\\partial^2 f}{\\partial x_2^2} + \\frac{\\partial^2 f}{\\partial x_3^2}.\n",
    "$$\n",
    "\n",
    "Let the function defined in Exercise 4 be a two-dimensional scalar field,\n",
    "use Minterpy to compute the result Laplacian of the field and plot its contour.\n",
    "\n",
    "Hint: You may use `plot_poly()` function from the local `utils` module to plot the contour."
   ]
  },
  {
   "cell_type": "code",
   "execution_count": 543,
   "id": "f12eeb90",
   "metadata": {},
   "outputs": [],
   "source": [
    "## Your code here"
   ]
  }
 ],
 "metadata": {
  "kernelspec": {
   "display_name": "Python 3 (ipykernel)",
   "language": "python",
   "name": "python3"
  },
  "language_info": {
   "codemirror_mode": {
    "name": "ipython",
    "version": 3
   },
   "file_extension": ".py",
   "mimetype": "text/x-python",
   "name": "python",
   "nbconvert_exporter": "python",
   "pygments_lexer": "ipython3",
   "version": "3.9.19"
  }
 },
 "nbformat": 4,
 "nbformat_minor": 5
}
